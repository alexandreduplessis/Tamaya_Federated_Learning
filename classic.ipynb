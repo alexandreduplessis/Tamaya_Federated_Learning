{
 "cells": [
  {
   "cell_type": "code",
   "execution_count": 1,
   "metadata": {},
   "outputs": [],
   "source": [
    "import torch\n",
    "from src.convnet import ConvNet\n",
    "from src.tf_cifar import TFCifar\n",
    "from src.datasets import MNIST, FMNIST, CIFAR10\n",
    "from src.accuracy import get_accuracy"
   ]
  },
  {
   "cell_type": "code",
   "execution_count": 2,
   "metadata": {},
   "outputs": [
    {
     "name": "stdout",
     "output_type": "stream",
     "text": [
      "Files already downloaded and verified\n",
      "Files already downloaded and verified\n",
      "1/100: 0.2115\n",
      "2/100: 0.2611\n",
      "3/100: 0.2898\n",
      "4/100: 0.3194\n",
      "5/100: 0.3413\n",
      "6/100: 0.3576\n",
      "7/100: 0.3721\n",
      "8/100: 0.3882\n",
      "9/100: 0.403\n",
      "10/100: 0.4135\n",
      "11/100: 0.4271\n",
      "12/100: 0.4323\n",
      "13/100: 0.4405\n",
      "14/100: 0.4549\n",
      "15/100: 0.4605\n",
      "16/100: 0.4681\n",
      "17/100: 0.4794\n",
      "18/100: 0.4828\n",
      "19/100: 0.4902\n",
      "20/100: 0.4985\n",
      "21/100: 0.5054\n",
      "22/100: 0.5106\n",
      "23/100: 0.5149\n",
      "24/100: 0.5202\n",
      "25/100: 0.5273\n",
      "26/100: 0.524\n",
      "27/100: 0.5312\n",
      "28/100: 0.5302\n",
      "29/100: 0.5426\n",
      "30/100: 0.5412\n",
      "31/100: 0.5471\n",
      "32/100: 0.5521\n",
      "33/100: 0.5524\n",
      "34/100: 0.5582\n",
      "35/100: 0.5669\n",
      "36/100: 0.5681\n",
      "37/100: 0.5694\n",
      "38/100: 0.5734\n",
      "39/100: 0.582\n",
      "40/100: 0.5823\n",
      "41/100: 0.585\n",
      "42/100: 0.5925\n",
      "43/100: 0.5994\n",
      "44/100: 0.5919\n",
      "45/100: 0.6001\n",
      "46/100: 0.6056\n",
      "47/100: 0.6089\n",
      "48/100: 0.6079\n",
      "49/100: 0.6065\n",
      "50/100: 0.6061\n",
      "51/100: 0.6051\n",
      "52/100: 0.6125\n",
      "53/100: 0.6176\n",
      "54/100: 0.6182\n",
      "55/100: 0.6137\n",
      "56/100: 0.6175\n",
      "57/100: 0.6226\n",
      "58/100: 0.6272\n",
      "59/100: 0.633\n",
      "60/100: 0.6348\n",
      "61/100: 0.6319\n",
      "62/100: 0.64\n",
      "63/100: 0.6424\n",
      "64/100: 0.6426\n",
      "65/100: 0.6368\n",
      "66/100: 0.6415\n",
      "67/100: 0.6454\n",
      "68/100: 0.6465\n",
      "69/100: 0.6456\n",
      "70/100: 0.6487\n",
      "71/100: 0.6506\n",
      "72/100: 0.6553\n",
      "73/100: 0.6565\n",
      "74/100: 0.6575\n",
      "75/100: 0.6515\n",
      "76/100: 0.6641\n",
      "77/100: 0.6646\n",
      "78/100: 0.6629\n",
      "79/100: 0.6627\n",
      "80/100: 0.6646\n",
      "81/100: 0.6706\n",
      "82/100: 0.6648\n",
      "83/100: 0.6727\n",
      "84/100: 0.6714\n",
      "85/100: 0.6741\n",
      "86/100: 0.6751\n",
      "87/100: 0.6803\n",
      "88/100: 0.683\n",
      "89/100: 0.6718\n",
      "90/100: 0.6811\n",
      "91/100: 0.6825\n",
      "92/100: 0.6832\n",
      "93/100: 0.6841\n",
      "94/100: 0.6897\n",
      "95/100: 0.6842\n",
      "96/100: 0.6862\n",
      "97/100: 0.6898\n",
      "98/100: 0.6874\n",
      "99/100: 0.6914\n",
      "100/100: 0.6901\n",
      "[0.2115, 0.2611, 0.2898, 0.3194, 0.3413, 0.3576, 0.3721, 0.3882, 0.403, 0.4135, 0.4271, 0.4323, 0.4405, 0.4549, 0.4605, 0.4681, 0.4794, 0.4828, 0.4902, 0.4985, 0.5054, 0.5106, 0.5149, 0.5202, 0.5273, 0.524, 0.5312, 0.5302, 0.5426, 0.5412, 0.5471, 0.5521, 0.5524, 0.5582, 0.5669, 0.5681, 0.5694, 0.5734, 0.582, 0.5823, 0.585, 0.5925, 0.5994, 0.5919, 0.6001, 0.6056, 0.6089, 0.6079, 0.6065, 0.6061, 0.6051, 0.6125, 0.6176, 0.6182, 0.6137, 0.6175, 0.6226, 0.6272, 0.633, 0.6348, 0.6319, 0.64, 0.6424, 0.6426, 0.6368, 0.6415, 0.6454, 0.6465, 0.6456, 0.6487, 0.6506, 0.6553, 0.6565, 0.6575, 0.6515, 0.6641, 0.6646, 0.6629, 0.6627, 0.6646, 0.6706, 0.6648, 0.6727, 0.6714, 0.6741, 0.6751, 0.6803, 0.683, 0.6718, 0.6811, 0.6825, 0.6832, 0.6841, 0.6897, 0.6842, 0.6862, 0.6898, 0.6874, 0.6914, 0.6901]\n"
     ]
    }
   ],
   "source": [
    "device = 'cuda'\n",
    "epochs = 2\n",
    "batchsize = 64\n",
    "\n",
    "data_train = CIFAR10(True, device)\n",
    "data_test = CIFAR10(False, device)\n",
    "model = TFCifar()\n",
    "model.to(device)\n",
    "\n",
    "accs = []\n",
    "\n",
    "loss_fn = torch.nn.CrossEntropyLoss(reduction='sum')\n",
    "testloader = torch.utils.data.DataLoader(data_test, batch_size=1000, shuffle=True, num_workers=0)\n",
    "dataloader = torch.utils.data.DataLoader(data_train, batch_size=batchsize, shuffle=True, num_workers=0)\n",
    "optim = torch.optim.SGD(model.parameters(), lr=5e-6)\n",
    "\n",
    "for epoch in range(epochs):\n",
    "    model.train()\n",
    "    for (x, y) in dataloader:\n",
    "        optim.zero_grad()\n",
    "        y_out = model(x)\n",
    "        loss = loss_fn(y_out, y)\n",
    "        loss.backward()\n",
    "        optim.step()\n",
    "    accs.append(get_accuracy(model, testloader))\n",
    "    print(f\"{epoch+1}/{epochs}: {accs[-1]}\")\n",
    "print(accs)"
   ]
  },
  {
   "cell_type": "code",
   "execution_count": 3,
   "metadata": {},
   "outputs": [],
   "source": [
    "import copy"
   ]
  },
  {
   "cell_type": "code",
   "execution_count": 4,
   "metadata": {},
   "outputs": [
    {
     "data": {
      "text/plain": [
       "odict_keys(['conv1.0.weight', 'conv1.0.bias', 'conv1.2.weight', 'conv1.2.bias', 'conv1.2.running_mean', 'conv1.2.running_var', 'conv1.2.num_batches_tracked', 'conv2.0.weight', 'conv2.0.bias', 'conv2.2.weight', 'conv2.2.bias', 'conv2.2.running_mean', 'conv2.2.running_var', 'conv2.2.num_batches_tracked', 'conv3.0.weight', 'conv3.0.bias', 'conv3.2.weight', 'conv3.2.bias', 'conv3.2.running_mean', 'conv3.2.running_var', 'conv3.2.num_batches_tracked', 'lin1.weight', 'lin1.bias', 'lin2.weight', 'lin2.bias', 'lin3.weight'])"
      ]
     },
     "execution_count": 4,
     "metadata": {},
     "output_type": "execute_result"
    }
   ],
   "source": [
    "weight = copy.deepcopy(model.state_dict())\n",
    "names = weight.keys()\n",
    "names"
   ]
  }
 ],
 "metadata": {
  "kernelspec": {
   "display_name": "Python 3",
   "language": "python",
   "name": "python3"
  },
  "language_info": {
   "codemirror_mode": {
    "name": "ipython",
    "version": 3
   },
   "file_extension": ".py",
   "mimetype": "text/x-python",
   "name": "python",
   "nbconvert_exporter": "python",
   "pygments_lexer": "ipython3",
   "version": "3.8.10"
  },
  "orig_nbformat": 4
 },
 "nbformat": 4,
 "nbformat_minor": 2
}
