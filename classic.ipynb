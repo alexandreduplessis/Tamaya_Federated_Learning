{
 "cells": [
  {
   "cell_type": "code",
   "execution_count": 1,
   "metadata": {},
   "outputs": [],
   "source": [
    "import torch\n",
    "from src.convnet import ConvNet\n",
    "from src.tf_cifar import TFCifar\n",
    "from src.datasets import MNIST, FMNIST, CIFAR10\n",
    "from src.accuracy import get_accuracy"
   ]
  },
  {
   "cell_type": "code",
   "execution_count": 2,
   "metadata": {},
   "outputs": [
    {
     "name": "stdout",
     "output_type": "stream",
     "text": [
      "1/1: 0.9585\n",
      "[0.9585]\n"
     ]
    }
   ],
   "source": [
    "device = 'cuda'\n",
    "epochs = 100\n",
    "batchsize = 64\n",
    "\n",
    "data_train = CIFAR10(True, device)\n",
    "data_test = CIFAR10(False, device)\n",
    "model = TFCifar()\n",
    "model.to(device)\n",
    "\n",
    "accs = []\n",
    "\n",
    "loss_fn = torch.nn.CrossEntropyLoss(reduction='sum')\n",
    "testloader = torch.utils.data.DataLoader(data_test, batch_size=1000, shuffle=True, num_workers=0)\n",
    "dataloader = torch.utils.data.DataLoader(data_train, batch_size=batchsize, shuffle=True, num_workers=0)\n",
    "optim = torch.optim.SGD(model.parameters(), lr=5e-6)\n",
    "\n",
    "for epoch in range(epochs):\n",
    "    model.train()\n",
    "    for (x, y) in dataloader:\n",
    "        optim.zero_grad()\n",
    "        y_out = model(x)\n",
    "        loss = loss_fn(y_out, y)\n",
    "        loss.backward()\n",
    "        optim.step()\n",
    "    accs.append(get_accuracy(model, testloader))\n",
    "    print(f\"{epoch+1}/{epochs}: {accs[-1]}\")\n",
    "print(accs)"
   ]
  },
  {
   "cell_type": "code",
   "execution_count": 3,
   "metadata": {},
   "outputs": [],
   "source": [
    "import copy"
   ]
  },
  {
   "cell_type": "code",
   "execution_count": 7,
   "metadata": {},
   "outputs": [
    {
     "data": {
      "text/plain": [
       "odict_keys(['conv_1.weight', 'conv_1.bias', 'conv_2.weight', 'conv_2.bias', 'lin.weight', 'lin.bias'])"
      ]
     },
     "execution_count": 7,
     "metadata": {},
     "output_type": "execute_result"
    }
   ],
   "source": [
    "weight = copy.deepcopy(model.state_dict())\n",
    "names = weight.keys()\n",
    "names"
   ]
  }
 ],
 "metadata": {
  "kernelspec": {
   "display_name": "Python 3",
   "language": "python",
   "name": "python3"
  },
  "language_info": {
   "codemirror_mode": {
    "name": "ipython",
    "version": 3
   },
   "file_extension": ".py",
   "mimetype": "text/x-python",
   "name": "python",
   "nbconvert_exporter": "python",
   "pygments_lexer": "ipython3",
   "version": "3.8.10"
  },
  "orig_nbformat": 4
 },
 "nbformat": 4,
 "nbformat_minor": 2
}
